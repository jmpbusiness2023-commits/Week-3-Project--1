{
 "cells": [
  {
   "cell_type": "code",
   "execution_count": 1,
   "id": "9d80e594",
   "metadata": {},
   "outputs": [],
   "source": [
    "import pandas as pd \n",
    "import requests\n",
    "import time\n",
    "from bs4 import BeautifulSoup"
   ]
  },
  {
   "cell_type": "markdown",
   "id": "3905d413",
   "metadata": {},
   "source": [
    "Scraping data from The Number website"
   ]
  },
  {
   "cell_type": "code",
   "execution_count": 2,
   "id": "35744507",
   "metadata": {},
   "outputs": [],
   "source": [
    "# functions where you put the url of the page of \"the-numbers\" and give you back dataframe out of it\n",
    "def scrape_the_number(url):\n",
    "    headers = {\"User-Agent\": \"Mozilla/5.0\"}\n",
    "    rcs = requests.get(url, headers=headers)\n",
    "    soup = BeautifulSoup(rcs.text, \"html.parser\")\n",
    "    rows = soup.select(\"table tr\")\n",
    "    data = []\n",
    "\n",
    "    for row in rows:\n",
    "        cells = row.find_all(\"td\")\n",
    "        if cells:\n",
    "            data.append([cell.text.strip() for cell in cells])\n",
    "\n",
    "    df = pd.DataFrame(data, columns=[\"Index\", \"Release Date\", \"Title\", \"Production Budget\", \"Domestic Gross\", \"Worldwide Gross\"])\n",
    "    return df"
   ]
  },
  {
   "cell_type": "code",
   "execution_count": null,
   "id": "f7d48cdf",
   "metadata": {},
   "outputs": [],
   "source": [
    "#applying the dunction and getting 1000 rows\n",
    "page1 = scrape_the_number(\"https://www.the-numbers.com/movie/budgets/all\")\n",
    "page2 = scrape_the_number(\"https://www.the-numbers.com/movie/budgets/all/101\")\n",
    "page3 = scrape_the_number(\"https://www.the-numbers.com/movie/budgets/all/201\")\n",
    "page4 = scrape_the_number(\"https://www.the-numbers.com/movie/budgets/all/301\")\n",
    "page5 = scrape_the_number(\"https://www.the-numbers.com/movie/budgets/all/401\")\n",
    "page6 = scrape_the_number(\"https://www.the-numbers.com/movie/budgets/all/501\")\n",
    "page7 = scrape_the_number(\"https://www.the-numbers.com/movie/budgets/all/601\")\n",
    "page8 = scrape_the_number(\"https://www.the-numbers.com/movie/budgets/all/701\")\n",
    "page9 = scrape_the_number(\"https://www.the-numbers.com/movie/budgets/all/801\")\n",
    "page10 = scrape_the_number(\"https://www.the-numbers.com/movie/budgets/all/901\")\n"
   ]
  },
  {
   "cell_type": "markdown",
   "id": "6b8c5a50",
   "metadata": {},
   "source": [
    "Concating the pages to one result"
   ]
  },
  {
   "cell_type": "code",
   "execution_count": 4,
   "id": "feeeb991",
   "metadata": {},
   "outputs": [],
   "source": [
    "the_number_df = pd.concat([page1, page2, page3, page4, page5, page6, page7, page8, page9, page10], ignore_index=True)\n",
    "the_number_df =  the_number_df.drop(columns=\"Index\")"
   ]
  },
  {
   "cell_type": "markdown",
   "id": "4615358a",
   "metadata": {},
   "source": [
    "Now using the OMDB api though a function "
   ]
  },
  {
   "cell_type": "code",
   "execution_count": null,
   "id": "03c2d1d6",
   "metadata": {},
   "outputs": [],
   "source": [
    "# 2. OMDB function to apply on the list by title to get info\n",
    "\n",
    "key = \"2f9babf3\"\n",
    "def get_movie_info(title):\n",
    "    url = f\"http://www.omdbapi.com/?t={title}&apikey={key}\"\n",
    "    res = requests.get(url).json()\n",
    "    time.sleep(0.2)\n",
    "    \n",
    "    return res\n",
    "\n",
    "omdb_data = the_number_df[\"Title\"].apply(get_movie_info)"
   ]
  },
  {
   "cell_type": "code",
   "execution_count": 53,
   "id": "45a8cab8",
   "metadata": {},
   "outputs": [],
   "source": [
    "# converting the results to pd dataframe\n",
    "omdb_df = pd.DataFrame(omdb_data.tolist())"
   ]
  },
  {
   "cell_type": "markdown",
   "id": "297dbcb6",
   "metadata": {},
   "source": [
    "adding one column with made index to match the two dataffram (the two dataframe has the same order but they don't necceserlly match the title)"
   ]
  },
  {
   "cell_type": "code",
   "execution_count": null,
   "id": "eef0a8c7",
   "metadata": {},
   "outputs": [],
   "source": [
    "omdb = omdb_df.reset_index()\n",
    "the_number = the_number_df.reset_index()"
   ]
  },
  {
   "cell_type": "markdown",
   "id": "21242f1a",
   "metadata": {},
   "source": [
    "Merging the two dataframes"
   ]
  },
  {
   "cell_type": "code",
   "execution_count": 66,
   "id": "91375313",
   "metadata": {},
   "outputs": [],
   "source": [
    "df_full_col = pd.merge(the_number, omdb, on = \"index\", how = \"inner\")"
   ]
  },
  {
   "cell_type": "markdown",
   "id": "fb93d987",
   "metadata": {},
   "source": [
    "Saving the data to my local disk"
   ]
  },
  {
   "cell_type": "code",
   "execution_count": 1,
   "id": "1495ae6e",
   "metadata": {},
   "outputs": [
    {
     "ename": "NameError",
     "evalue": "name 'df_full_col' is not defined",
     "output_type": "error",
     "traceback": [
      "\u001b[31m---------------------------------------------------------------------------\u001b[39m",
      "\u001b[31mNameError\u001b[39m                                 Traceback (most recent call last)",
      "\u001b[36mCell\u001b[39m\u001b[36m \u001b[39m\u001b[32mIn[1]\u001b[39m\u001b[32m, line 2\u001b[39m\n\u001b[32m      1\u001b[39m \u001b[38;5;66;03m# this would save it in the folder that you are working on\u001b[39;00m\n\u001b[32m----> \u001b[39m\u001b[32m2\u001b[39m \u001b[43mdf_full_col\u001b[49m.to_csv(\u001b[33m\"\u001b[39m\u001b[33mdf_full_col_muayad.csv\u001b[39m\u001b[33m\"\u001b[39m, index=\u001b[38;5;28;01mFalse\u001b[39;00m)\n",
      "\u001b[31mNameError\u001b[39m: name 'df_full_col' is not defined"
     ]
    }
   ],
   "source": [
    "# this would save it in the folder that you are working on\n",
    "df_full_col.to_csv(\"df_full_col_muayad.csv\", index=False)"
   ]
  },
  {
   "cell_type": "markdown",
   "id": "b9f73bee",
   "metadata": {},
   "source": [
    "Cleaning data"
   ]
  },
  {
   "cell_type": "code",
   "execution_count": 76,
   "id": "34861e13",
   "metadata": {},
   "outputs": [
    {
     "data": {
      "text/html": [
       "<div>\n",
       "<style scoped>\n",
       "    .dataframe tbody tr th:only-of-type {\n",
       "        vertical-align: middle;\n",
       "    }\n",
       "\n",
       "    .dataframe tbody tr th {\n",
       "        vertical-align: top;\n",
       "    }\n",
       "\n",
       "    .dataframe thead th {\n",
       "        text-align: right;\n",
       "    }\n",
       "</style>\n",
       "<table border=\"1\" class=\"dataframe\">\n",
       "  <thead>\n",
       "    <tr style=\"text-align: right;\">\n",
       "      <th></th>\n",
       "      <th>index</th>\n",
       "      <th>Release Date</th>\n",
       "      <th>Title_x</th>\n",
       "      <th>Production Budget</th>\n",
       "      <th>Domestic Gross</th>\n",
       "      <th>Worldwide Gross</th>\n",
       "      <th>Response</th>\n",
       "      <th>Error</th>\n",
       "      <th>Title_y</th>\n",
       "      <th>Year</th>\n",
       "      <th>...</th>\n",
       "      <th>Metascore</th>\n",
       "      <th>imdbRating</th>\n",
       "      <th>imdbVotes</th>\n",
       "      <th>imdbID</th>\n",
       "      <th>Type</th>\n",
       "      <th>DVD</th>\n",
       "      <th>BoxOffice</th>\n",
       "      <th>Production</th>\n",
       "      <th>Website</th>\n",
       "      <th>totalSeasons</th>\n",
       "    </tr>\n",
       "  </thead>\n",
       "  <tbody>\n",
       "    <tr>\n",
       "      <th>0</th>\n",
       "      <td>0</td>\n",
       "      <td>Dec 16, 2015</td>\n",
       "      <td>Star Wars Ep. VII: The Force Awakens</td>\n",
       "      <td>$533,200,000</td>\n",
       "      <td>$936,662,225</td>\n",
       "      <td>$2,056,046,835</td>\n",
       "      <td>False</td>\n",
       "      <td>Movie not found!</td>\n",
       "      <td>NaN</td>\n",
       "      <td>NaN</td>\n",
       "      <td>...</td>\n",
       "      <td>NaN</td>\n",
       "      <td>NaN</td>\n",
       "      <td>NaN</td>\n",
       "      <td>NaN</td>\n",
       "      <td>NaN</td>\n",
       "      <td>NaN</td>\n",
       "      <td>NaN</td>\n",
       "      <td>NaN</td>\n",
       "      <td>NaN</td>\n",
       "      <td>NaN</td>\n",
       "    </tr>\n",
       "    <tr>\n",
       "      <th>1</th>\n",
       "      <td>1</td>\n",
       "      <td>Apr 23, 2019</td>\n",
       "      <td>Avengers: Endgame</td>\n",
       "      <td>$400,000,000</td>\n",
       "      <td>$858,373,000</td>\n",
       "      <td>$2,717,503,922</td>\n",
       "      <td>True</td>\n",
       "      <td>NaN</td>\n",
       "      <td>Avengers: Endgame</td>\n",
       "      <td>2019</td>\n",
       "      <td>...</td>\n",
       "      <td>78</td>\n",
       "      <td>8.4</td>\n",
       "      <td>1,390,337</td>\n",
       "      <td>tt4154796</td>\n",
       "      <td>movie</td>\n",
       "      <td>N/A</td>\n",
       "      <td>$858,373,000</td>\n",
       "      <td>N/A</td>\n",
       "      <td>N/A</td>\n",
       "      <td>NaN</td>\n",
       "    </tr>\n",
       "    <tr>\n",
       "      <th>2</th>\n",
       "      <td>2</td>\n",
       "      <td>Dec 9, 2022</td>\n",
       "      <td>Avatar: The Way of Water</td>\n",
       "      <td>$400,000,000</td>\n",
       "      <td>$688,809,501</td>\n",
       "      <td>$2,322,902,023</td>\n",
       "      <td>True</td>\n",
       "      <td>NaN</td>\n",
       "      <td>Avatar: The Way of Water</td>\n",
       "      <td>2022</td>\n",
       "      <td>...</td>\n",
       "      <td>67</td>\n",
       "      <td>7.5</td>\n",
       "      <td>546,561</td>\n",
       "      <td>tt1630029</td>\n",
       "      <td>movie</td>\n",
       "      <td>N/A</td>\n",
       "      <td>$684,075,767</td>\n",
       "      <td>N/A</td>\n",
       "      <td>N/A</td>\n",
       "      <td>NaN</td>\n",
       "    </tr>\n",
       "    <tr>\n",
       "      <th>3</th>\n",
       "      <td>3</td>\n",
       "      <td>May 17, 2025</td>\n",
       "      <td>Mission: Impossible—The Final Reckoning</td>\n",
       "      <td>$400,000,000</td>\n",
       "      <td>$197,413,515</td>\n",
       "      <td>$591,353,074</td>\n",
       "      <td>True</td>\n",
       "      <td>NaN</td>\n",
       "      <td>Mission: Impossible - The Final Reckoning</td>\n",
       "      <td>2025</td>\n",
       "      <td>...</td>\n",
       "      <td>67</td>\n",
       "      <td>7.3</td>\n",
       "      <td>160,935</td>\n",
       "      <td>tt9603208</td>\n",
       "      <td>movie</td>\n",
       "      <td>N/A</td>\n",
       "      <td>$197,413,515</td>\n",
       "      <td>N/A</td>\n",
       "      <td>N/A</td>\n",
       "      <td>NaN</td>\n",
       "    </tr>\n",
       "    <tr>\n",
       "      <th>4</th>\n",
       "      <td>4</td>\n",
       "      <td>May 20, 2011</td>\n",
       "      <td>Pirates of the Caribbean: On Stranger Tides</td>\n",
       "      <td>$379,000,000</td>\n",
       "      <td>$241,071,802</td>\n",
       "      <td>$1,045,713,802</td>\n",
       "      <td>True</td>\n",
       "      <td>NaN</td>\n",
       "      <td>Pirates of the Caribbean: On Stranger Tides</td>\n",
       "      <td>2011</td>\n",
       "      <td>...</td>\n",
       "      <td>45</td>\n",
       "      <td>6.6</td>\n",
       "      <td>594,656</td>\n",
       "      <td>tt1298650</td>\n",
       "      <td>movie</td>\n",
       "      <td>N/A</td>\n",
       "      <td>$241,071,802</td>\n",
       "      <td>N/A</td>\n",
       "      <td>N/A</td>\n",
       "      <td>NaN</td>\n",
       "    </tr>\n",
       "  </tbody>\n",
       "</table>\n",
       "<p>5 rows × 33 columns</p>\n",
       "</div>"
      ],
      "text/plain": [
       "   index  Release Date                                      Title_x  \\\n",
       "0      0  Dec 16, 2015         Star Wars Ep. VII: The Force Awakens   \n",
       "1      1  Apr 23, 2019                            Avengers: Endgame   \n",
       "2      2   Dec 9, 2022                     Avatar: The Way of Water   \n",
       "3      3  May 17, 2025      Mission: Impossible—The Final Reckoning   \n",
       "4      4  May 20, 2011  Pirates of the Caribbean: On Stranger Tides   \n",
       "\n",
       "  Production Budget Domestic Gross Worldwide Gross Response             Error  \\\n",
       "0      $533,200,000   $936,662,225  $2,056,046,835    False  Movie not found!   \n",
       "1      $400,000,000   $858,373,000  $2,717,503,922     True               NaN   \n",
       "2      $400,000,000   $688,809,501  $2,322,902,023     True               NaN   \n",
       "3      $400,000,000   $197,413,515    $591,353,074     True               NaN   \n",
       "4      $379,000,000   $241,071,802  $1,045,713,802     True               NaN   \n",
       "\n",
       "                                       Title_y  Year  ... Metascore  \\\n",
       "0                                          NaN   NaN  ...       NaN   \n",
       "1                            Avengers: Endgame  2019  ...        78   \n",
       "2                     Avatar: The Way of Water  2022  ...        67   \n",
       "3    Mission: Impossible - The Final Reckoning  2025  ...        67   \n",
       "4  Pirates of the Caribbean: On Stranger Tides  2011  ...        45   \n",
       "\n",
       "  imdbRating  imdbVotes     imdbID   Type  DVD     BoxOffice Production  \\\n",
       "0        NaN        NaN        NaN    NaN  NaN           NaN        NaN   \n",
       "1        8.4  1,390,337  tt4154796  movie  N/A  $858,373,000        N/A   \n",
       "2        7.5    546,561  tt1630029  movie  N/A  $684,075,767        N/A   \n",
       "3        7.3    160,935  tt9603208  movie  N/A  $197,413,515        N/A   \n",
       "4        6.6    594,656  tt1298650  movie  N/A  $241,071,802        N/A   \n",
       "\n",
       "  Website totalSeasons  \n",
       "0     NaN          NaN  \n",
       "1     N/A          NaN  \n",
       "2     N/A          NaN  \n",
       "3     N/A          NaN  \n",
       "4     N/A          NaN  \n",
       "\n",
       "[5 rows x 33 columns]"
      ]
     },
     "execution_count": 76,
     "metadata": {},
     "output_type": "execute_result"
    }
   ],
   "source": [
    "df_full_col.head()"
   ]
  },
  {
   "cell_type": "code",
   "execution_count": null,
   "id": "3514742a",
   "metadata": {},
   "outputs": [],
   "source": []
  },
  {
   "cell_type": "code",
   "execution_count": null,
   "id": "17cb530b",
   "metadata": {},
   "outputs": [],
   "source": []
  },
  {
   "cell_type": "code",
   "execution_count": null,
   "id": "c813a892",
   "metadata": {},
   "outputs": [],
   "source": []
  },
  {
   "cell_type": "code",
   "execution_count": null,
   "id": "4b090273",
   "metadata": {},
   "outputs": [],
   "source": []
  },
  {
   "cell_type": "code",
   "execution_count": null,
   "id": "1093f875",
   "metadata": {},
   "outputs": [],
   "source": []
  }
 ],
 "metadata": {
  "kernelspec": {
   "display_name": "base",
   "language": "python",
   "name": "python3"
  },
  "language_info": {
   "codemirror_mode": {
    "name": "ipython",
    "version": 3
   },
   "file_extension": ".py",
   "mimetype": "text/x-python",
   "name": "python",
   "nbconvert_exporter": "python",
   "pygments_lexer": "ipython3",
   "version": "3.12.2"
  }
 },
 "nbformat": 4,
 "nbformat_minor": 5
}
